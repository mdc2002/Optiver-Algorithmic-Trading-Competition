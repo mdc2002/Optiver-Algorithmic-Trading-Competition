{
 "cells": [
  {
   "cell_type": "markdown",
   "metadata": {},
   "source": [
    "# Main\n"
   ]
  },
  {
   "cell_type": "code",
   "execution_count": 8,
   "metadata": {
    "tags": []
   },
   "outputs": [
    {
     "name": "stdout",
     "output_type": "stream",
     "text": [
      "The autoreload extension is already loaded. To reload it, use:\n",
      "  %reload_ext autoreload\n",
      "Setup was successful.\n"
     ]
    }
   ],
   "source": [
    "from optibook.synchronous_client import Exchange\n",
    "%load_ext autoreload\n",
    "%autoreload 2\n",
    "\n",
    "from utils_3 import *\n",
    "\n",
    "#import time\n",
    "import logging\n",
    "#import sys\n",
    "\n",
    "logger = logging.getLogger('client')\n",
    "logger.setLevel('ERROR')\n",
    "\n",
    "print(\"Setup was successful.\")"
   ]
  },
  {
   "cell_type": "code",
   "execution_count": 9,
   "metadata": {
    "tags": []
   },
   "outputs": [],
   "source": [
    "instrument_id = 'TEST'\n",
    "Airbus = 'AIRBUS'\n",
    "Allianz = 'ALLIANZ'\n",
    "ASML = 'ASML'\n",
    "LVMH = 'LVMH'\n",
    "SAP = 'SAP'\n",
    "Siemens = 'SIEMENS'\n",
    "Total = 'TOTAL'\n",
    "Unilever = 'UNILEVER'\n",
    "\n",
    "#Airbus + Allianz = Pair_1\n",
    "\n",
    "volume_storage = []\n",
    "current_positions = []\n",
    "new_positions = []\n",
    "\n",
    "pair_list = []\n",
    "levels_deep_list = []\n"
   ]
  },
  {
   "cell_type": "markdown",
   "metadata": {},
   "source": [
    "### Connect to Exchange"
   ]
  },
  {
   "cell_type": "code",
   "execution_count": 10,
   "metadata": {},
   "outputs": [
    {
     "name": "stderr",
     "output_type": "stream",
     "text": [
      "2021-03-18 23:39:07,106 [asyncio   ] [MainThread  ] Using selector: EpollSelector\n"
     ]
    }
   ],
   "source": [
    "e = Exchange()\n",
    "a = e.connect()\n",
    "\n",
    "stock_prices_max = {'AIRBUS': 22,\n",
    " 'SIEMENS': 31,\n",
    " 'TOTAL': 218,\n",
    " 'UNILEVER': 358,\n",
    " 'SAP': 100,\n",
    " 'ASML': 30,\n",
    " 'LVMH': 218,\n",
    " 'ALLIANZ': 400}\n",
    "stock_prices_min = {'AIRBUS': 21,\n",
    " 'SIEMENS': 30,\n",
    " 'TOTAL': 99,\n",
    " 'UNILEVER': 163,\n",
    " 'SAP': 40,\n",
    " 'ASML': 15,\n",
    " 'LVMH': 81,\n",
    " 'ALLIANZ': 161}\n",
    "\n",
    "# you can also define host/user/pass yourself\n",
    "# when not defined, it is taken from ~/.optibook file if it exists\n",
    "# if that file does not exists, an error is thrown\n",
    "\n",
    "#e = Exchange(host='host-to-connect-to')\n",
    "#a = e.connect(username='your-username', password='your-password')\n"
   ]
  },
  {
   "cell_type": "markdown",
   "metadata": {},
   "source": [
    "# Creates tables of p-values and hedge ratios for all stock pairs"
   ]
  },
  {
   "cell_type": "code",
   "execution_count": 4,
   "metadata": {
    "tags": []
   },
   "outputs": [
    {
     "name": "stdout",
     "output_type": "stream",
     "text": [
      "             AIRBUS    SIEMENS      TOTAL   UNILEVER        SAP      ASML  \\\n",
      "AIRBUS     0.943388  0.0906278   0.132822    0.17386  0.0795951  0.139368   \n",
      "SIEMENS    0.165182   0.962164  0.0196505  0.0737529   0.487771  0.506406   \n",
      "TOTAL      0.438638  0.0449577   0.950746          0   0.723523  0.724601   \n",
      "UNILEVER   0.953021   0.464585          0   0.942114   0.992589  0.989137   \n",
      "SAP       0.0547673   0.234495   0.217012     0.2175   0.948142         0   \n",
      "ASML       0.283943   0.614337   0.560743   0.561383          0  0.939931   \n",
      "LVMH       0.664654   0.580269    0.60094   0.603265   0.610633  0.682753   \n",
      "ALLIANZ    0.837602   0.658034   0.678152   0.646619    0.77882  0.840681   \n",
      "\n",
      "              LVMH      ALLIANZ  \n",
      "AIRBUS    0.365664     0.386927  \n",
      "SIEMENS   0.486326     0.488133  \n",
      "TOTAL      0.74926     0.750051  \n",
      "UNILEVER   0.99281     0.990119  \n",
      "SAP       0.231159     0.242959  \n",
      "ASML       0.65218     0.672598  \n",
      "LVMH      0.956065            0  \n",
      "ALLIANZ          0  5.04689e-11  \n",
      "            AIRBUS   SIEMENS      TOTAL   UNILEVER        SAP      ASML  \\\n",
      "AIRBUS           1  0.413929  -0.271955  -0.248853   0.586999   1.55104   \n",
      "SIEMENS   0.560022         1  -0.507591  -0.464321  -0.242333 -0.641055   \n",
      "TOTAL    -0.728665  -1.00523          1   0.914407 -0.0851963 -0.223765   \n",
      "UNILEVER -0.797106  -1.09929    1.09315          1 -0.0938632 -0.246546   \n",
      "SAP       0.583299 -0.177987 -0.0315969  -0.029119          1   2.64235   \n",
      "ASML      0.220671 -0.067412 -0.0118818 -0.0109508   0.378319         1   \n",
      "LVMH      -1.03368 -0.272513    0.11834   0.108144  -0.965871  -2.55268   \n",
      "ALLIANZ   -1.43823  -0.37939   0.164833   0.150633   -1.34391  -3.55179   \n",
      "\n",
      "               LVMH    ALLIANZ  \n",
      "AIRBUS    -0.148225  -0.106538  \n",
      "SIEMENS  -0.0528693 -0.0380225  \n",
      "TOTAL     0.0454672  0.0327152  \n",
      "UNILEVER  0.0496721  0.0357411  \n",
      "SAP       -0.137629 -0.0989234  \n",
      "ASML      -0.052078 -0.0374321  \n",
      "LVMH              1   0.718716  \n",
      "ALLIANZ     1.39129          1  \n"
     ]
    }
   ],
   "source": [
    "#get_last_trade_value('TOTAL', 'bid', e)\n",
    "\n",
    "data=data_loader()\n",
    "companies = list(data.columns)[1:]\n",
    "\n",
    "df_pvals, df_ratios = tabulate_cointeg_pvals_ratios(data, only_significant=0)\n",
    "print(df_pvals)\n",
    "print(df_ratios)\n",
    "\n",
    "\n",
    "\n",
    "\n",
    "\n",
    "#exchange_test(e)\n",
    "#trading_test('ALLIANZ','SAP', data)"
   ]
  },
  {
   "cell_type": "markdown",
   "metadata": {},
   "source": [
    "# Batota scripts"
   ]
  },
  {
   "cell_type": "code",
   "execution_count": 4,
   "metadata": {},
   "outputs": [
    {
     "name": "stderr",
     "output_type": "stream",
     "text": [
      "2021-03-18 11:45:31,554 [client    ] [Thread-4    ] Forcing a disconnect due to an error: Closing connection due to blacklisting by a management client: not running.\n"
     ]
    }
   ],
   "source": [
    "comps = [\"TOTAL\", \"UNILEVER\", \"SAP\", \"ASML\", \"LVMH\", \"ALLIANZ\"]"
   ]
  },
  {
   "cell_type": "code",
   "execution_count": 5,
   "metadata": {},
   "outputs": [
    {
     "ename": "NameError",
     "evalue": "name 'comps' is not defined",
     "output_type": "error",
     "traceback": [
      "\u001b[0;31m---------------------------------------------------------------------------\u001b[0m",
      "\u001b[0;31mNameError\u001b[0m                                 Traceback (most recent call last)",
      "\u001b[0;32m<ipython-input-5-5360edc97d16>\u001b[0m in \u001b[0;36m<module>\u001b[0;34m\u001b[0m\n\u001b[0;32m----> 1\u001b[0;31m \u001b[0;32mfor\u001b[0m \u001b[0mcomp\u001b[0m \u001b[0;32min\u001b[0m \u001b[0mcomps\u001b[0m\u001b[0;34m:\u001b[0m\u001b[0;34m\u001b[0m\u001b[0;34m\u001b[0m\u001b[0m\n\u001b[0m\u001b[1;32m      2\u001b[0m     \u001b[0moutstanding\u001b[0m \u001b[0;34m=\u001b[0m \u001b[0me\u001b[0m\u001b[0;34m.\u001b[0m\u001b[0mget_outstanding_orders\u001b[0m\u001b[0;34m(\u001b[0m\u001b[0mcomp\u001b[0m\u001b[0;34m)\u001b[0m\u001b[0;34m\u001b[0m\u001b[0;34m\u001b[0m\u001b[0m\n\u001b[1;32m      3\u001b[0m     \u001b[0;32mfor\u001b[0m \u001b[0mo\u001b[0m \u001b[0;32min\u001b[0m \u001b[0moutstanding\u001b[0m\u001b[0;34m.\u001b[0m\u001b[0mvalues\u001b[0m\u001b[0;34m(\u001b[0m\u001b[0;34m)\u001b[0m\u001b[0;34m:\u001b[0m\u001b[0;34m\u001b[0m\u001b[0;34m\u001b[0m\u001b[0m\n\u001b[1;32m      4\u001b[0m         \u001b[0mresult\u001b[0m \u001b[0;34m=\u001b[0m \u001b[0me\u001b[0m\u001b[0;34m.\u001b[0m\u001b[0mdelete_order\u001b[0m\u001b[0;34m(\u001b[0m\u001b[0mcomp\u001b[0m\u001b[0;34m,\u001b[0m \u001b[0morder_id\u001b[0m\u001b[0;34m=\u001b[0m\u001b[0mo\u001b[0m\u001b[0;34m.\u001b[0m\u001b[0morder_id\u001b[0m\u001b[0;34m)\u001b[0m\u001b[0;34m\u001b[0m\u001b[0;34m\u001b[0m\u001b[0m\n",
      "\u001b[0;31mNameError\u001b[0m: name 'comps' is not defined"
     ]
    }
   ],
   "source": [
    "for comp in comps:\n",
    "    outstanding = e.get_outstanding_orders(comp)\n",
    "    for o in outstanding.values():\n",
    "        result = e.delete_order(comp, order_id=o.order_id)\n"
   ]
  },
  {
   "cell_type": "code",
   "execution_count": null,
   "metadata": {},
   "outputs": [],
   "source": [
    "for comp in comps:\n",
    "    e.insert_order(comp, price=10.0, volume=80, side='bid', order_type='limit')\n",
    "    time.sleep(1)\n",
    "    e.insert_order(comp, price=490.0, volume=80, side='ask', order_type='limit')\n",
    "    time.sleep(1)"
   ]
  },
  {
   "cell_type": "code",
   "execution_count": null,
   "metadata": {},
   "outputs": [],
   "source": [
    "new_comp=\"UNILEVER\"\n",
    "\n",
    "e.insert_order(new_comp, price=10.0, volume=80, side='bid', order_type='limit')\n",
    "time.sleep(1)\n",
    "e.insert_order(new_comp, price=490.0, volume=80, side='ask', order_type='limit')\n",
    "time.sleep(1)"
   ]
  },
  {
   "cell_type": "markdown",
   "metadata": {
    "tags": []
   },
   "source": [
    "# Extracts unique cointegrated stock pairs with associated c and gamma values"
   ]
  },
  {
   "cell_type": "code",
   "execution_count": 11,
   "metadata": {},
   "outputs": [
    {
     "name": "stdout",
     "output_type": "stream",
     "text": [
      "[('TOTAL', 'UNILEVER', -0.5008537179289747, 1.0001657849028531), ('SAP', 'ASML', -1.999879825520801, 1.9999539206651156), ('LVMH', 'ALLIANZ', 0.16680854548929716, 0.8333101843419742)]\n"
     ]
    }
   ],
   "source": [
    "data=data_loader()\n",
    "cointeg_comp_pairs = cointeg_significant_pairs(data, alpha=0.01)\n",
    "print(cointeg_comp_pairs)"
   ]
  },
  {
   "cell_type": "markdown",
   "metadata": {},
   "source": [
    "# Test for logging trade ticks in a csv file"
   ]
  },
  {
   "cell_type": "code",
   "execution_count": 12,
   "metadata": {},
   "outputs": [
    {
     "data": {
      "text/plain": [
       "1"
      ]
     },
     "execution_count": 12,
     "metadata": {},
     "output_type": "execute_result"
    }
   ],
   "source": [
    "tick_logger_csv(data, e, overwrite=0)"
   ]
  },
  {
   "cell_type": "markdown",
   "metadata": {},
   "source": [
    "# Definition of zt_trader"
   ]
  },
  {
   "cell_type": "code",
   "execution_count": 5,
   "metadata": {
    "jupyter": {
     "source_hidden": true
    },
    "tags": []
   },
   "outputs": [],
   "source": [
    "# Checks zt for a given stock pair and compares it to levels_deep for that pair, to determine whether we should execute a trade\n",
    "# The function then executes that trade.\n",
    "def zt_trader(stock_y, stock_x, c, gamma, levels_deep, current_positions, volume_storage, e, limits, base_volume):\n",
    "    \"\"\"\n",
    "    limit_1 = limits[0]\n",
    "    limit_2 = limits[1]\n",
    "    limit_3 = limits[2]\n",
    "    \"\"\"\n",
    "    base_volume = round(base_volume)\n",
    "    \n",
    "    res = 0\n",
    "    \n",
    "    #used_limit = abs(levels_deep)\n",
    "    \n",
    "    zt_up, zt_down, yt, xt = check_zt(stock_y, stock_x, c, gamma, e) # pulls the value of zt, as well as the stock prices used to calculate it\n",
    "\n",
    "    shallower_critical_limit = limits[abs(levels_deep)-1]\n",
    "    \n",
    "    # Checks whether zt is below (current limit - 1), using different values for zt depending on whether an evaluation of TRUE would imply trading up (levels_deep increases) or trading down (levels_deep decreases).\n",
    "    if (zt_down < shallower_critical_limit and levels_deep > 0) or (abs(zt_up) < shallower_critical_limit and levels_deep < 0) or (zt_down < 0 and levels_deep == 1) or (zt_up > 0 and levels_deep == -1):\n",
    "        \n",
    "        # trade shallower\n",
    "        res = trade_shallower(stock_y, stock_x, levels_deep, volume_storage, e)\n",
    "        print(\"stored volume using levels_deep =\", levels_deep) # prints for debugging purposes\n",
    "        \n",
    "        volume_storage = store_volumes(stock_y, stock_x, abs(levels_deep), 0,0, volume_storage) # Resets the stored volume for this level\n",
    "        current_positions = get_nr_positions_custom(e) # Stores our new actual positions\n",
    "        # Needs to check whether we're actually at zero. Otherwise we need to do another trade.\n",
    "        \n",
    "        \n",
    "        # Decrease abs(levels_deep) by 1\n",
    "        if levels_deep > 0:\n",
    "            levels_deep -= 1\n",
    "        elif levels_deep < 0:\n",
    "            levels_deep += 1\n",
    "    \n",
    "    \n",
    "    elif abs(levels_deep) != len(limits)-1: # Checks that we are not at the deepest level\n",
    "        if zt_up > 0 and abs(zt_up) > limits[abs(levels_deep)+1]: # Checks whether zt has exceeded a limit (except for the last one)\n",
    "            \n",
    "            # Checks whether we've already bought in at this limit\n",
    "            for pair_table in volume_storage:\n",
    "                if (pair_table[0] == [stock_y, stock_x]):\n",
    "                    print(pair_table)\n",
    "                    if pair_table[abs(levels_deep)+1] == [0, 0]:\n",
    "                        \n",
    "                        # Trade deeper up\n",
    "                        res = trade_deeper(1, stock_y, stock_x, levels_deep, yt, xt, gamma, base_volume, e)\n",
    "                        print(res)\n",
    "                        levels_deep += 1\n",
    "        \n",
    "                        hedge_volume_to_store=res[1]\n",
    "                        base_volume_to_store=res[2]\n",
    "                        volume_storage = store_volumes(stock_y, stock_x, levels_deep, base_volume_to_store, hedge_volume_to_store, volume_storage) # Stores the traded volume\n",
    "                        current_positions = get_nr_positions_custom(e) # Stores our new actual positions\n",
    "        \n",
    "        \n",
    "        if zt_down < 0 and abs(zt_down) > limits[abs(levels_deep)+1]: # Checks whether zt has exceeded a limit (except for the last one)\n",
    "\n",
    "            # Checks whether we've already bought in at this limit\n",
    "            for pair_table in volume_storage:\n",
    "                if (pair_table[0] == [stock_y, stock_x]):\n",
    "                    print(pair_table)\n",
    "                    if pair_table[abs(levels_deep)+1] == [0, 0]:\n",
    "\n",
    "                        # Trade deeper down\n",
    "                        res = trade_deeper(0, stock_y, stock_x, levels_deep, yt, xt, gamma, base_volume, e)\n",
    "                        print(res)\n",
    "                        levels_deep -= 1\n",
    "\n",
    "\n",
    "                        hedge_volume_to_store=res[1]\n",
    "                        base_volume_to_store=res[2]\n",
    "                        volume_storage = store_volumes(stock_y, stock_x, levels_deep, base_volume_to_store, hedge_volume_to_store, volume_storage) # Stores the traded volume\n",
    "                        current_positions = get_nr_positions_custom(e) # Stores our new actual positions\n",
    "                        \n",
    "\n",
    "    # prints for debugging purposes\n",
    "    print(f\"Now {levels_deep} levels deep on \", stock_y, stock_x)\n",
    "    print(f\"zt_up: {zt_up}, zt_down: {zt_down}\")\n",
    "\n",
    "    return(res, levels_deep, current_positions, volume_storage)"
   ]
  },
  {
   "cell_type": "markdown",
   "metadata": {
    "tags": []
   },
   "source": [
    "# Resets positions and volume storage"
   ]
  },
  {
   "cell_type": "code",
   "execution_count": 13,
   "metadata": {
    "tags": []
   },
   "outputs": [
    {
     "name": "stdout",
     "output_type": "stream",
     "text": [
      "{'TOTAL': -248, 'SAP': 0, 'ASML': 0, 'LVMH': 124, 'AIRBUS': 0, 'SIEMENS': 0, 'ALLIANZ': -50, 'UNILEVER': 150}\n",
      "{'TOTAL': 0, 'SAP': 0, 'ASML': 0, 'LVMH': 0, 'AIRBUS': 0, 'SIEMENS': 0, 'ALLIANZ': 0, 'UNILEVER': 0}\n"
     ]
    }
   ],
   "source": [
    "# Total reset of positions and storage-lists\n",
    "# Run this before testing zt_trader\n",
    "#limits = [0, 0.001, 0.002, 0.003, 0.004]\n",
    "\n",
    "volume_storage = []\n",
    "limits = [0, 0.001, 0.003, 0.004]\n",
    "max_levels=len(limits)-1\n",
    "base_volume=500/max_levels -1\n",
    "\n",
    "hack_out_of_positions(e) # Resets all our our actual holdings to 0\n",
    "current_positions = get_nr_positions_custom(e) # Resets our tracker of current positions\n",
    "volume_storage = creates_volume_storage(cointeg_comp_pairs, max_levels) # Resets the storage for traded volumes at various levels\n",
    "\n",
    "#\n",
    "pair_list=creates_pairs_storage(cointeg_comp_pairs)\n",
    "levels_deep_list=creates_levels_deep_storage(cointeg_comp_pairs)\n",
    "gamma_list=create_gamma_list(cointeg_comp_pairs)\n",
    "c_list=create_c_list(cointeg_comp_pairs)\n",
    "\n",
    "res = 0\n",
    "levels_deep = 0"
   ]
  },
  {
   "cell_type": "markdown",
   "metadata": {},
   "source": [
    "# Runs the trading function"
   ]
  },
  {
   "cell_type": "code",
   "execution_count": null,
   "metadata": {
    "tags": []
   },
   "outputs": [],
   "source": [
    "# Tests zt_trader once\n",
    "res, levels_deep, current_positions, volume_storage = zt_trader(\"TOTAL\", \"UNILEVER\", -0.5, 1, levels_deep, current_positions, volume_storage, e, limits, base_volume=20)"
   ]
  },
  {
   "cell_type": "code",
   "execution_count": 13,
   "metadata": {
    "tags": []
   },
   "outputs": [
    {
     "ename": "TypeError",
     "evalue": "zt_trader() missing 2 required positional arguments: 'stock_prices_max' and 'stock_prices_min'",
     "output_type": "error",
     "traceback": [
      "\u001b[0;31m---------------------------------------------------------------------------\u001b[0m",
      "\u001b[0;31mTypeError\u001b[0m                                 Traceback (most recent call last)",
      "\u001b[0;32m<ipython-input-13-7f7e5043aa7d>\u001b[0m in \u001b[0;36m<module>\u001b[0;34m\u001b[0m\n\u001b[1;32m     11\u001b[0m \u001b[0;34m\u001b[0m\u001b[0m\n\u001b[1;32m     12\u001b[0m     \u001b[0mres\u001b[0m \u001b[0;34m=\u001b[0m \u001b[0;36m0\u001b[0m\u001b[0;34m\u001b[0m\u001b[0;34m\u001b[0m\u001b[0m\n\u001b[0;32m---> 13\u001b[0;31m     \u001b[0mres\u001b[0m\u001b[0;34m,\u001b[0m \u001b[0mlevels_deep_list\u001b[0m\u001b[0;34m[\u001b[0m\u001b[0maux\u001b[0m\u001b[0;34m]\u001b[0m\u001b[0;34m,\u001b[0m \u001b[0mcurrent_positions\u001b[0m\u001b[0;34m,\u001b[0m \u001b[0mvolume_storage\u001b[0m \u001b[0;34m=\u001b[0m \u001b[0mzt_trader\u001b[0m\u001b[0;34m(\u001b[0m\u001b[0mstock_A\u001b[0m\u001b[0;34m,\u001b[0m \u001b[0mstock_B\u001b[0m\u001b[0;34m,\u001b[0m \u001b[0mc_list\u001b[0m\u001b[0;34m[\u001b[0m\u001b[0maux\u001b[0m\u001b[0;34m]\u001b[0m\u001b[0;34m,\u001b[0m \u001b[0mgamma_list\u001b[0m\u001b[0;34m[\u001b[0m\u001b[0maux\u001b[0m\u001b[0;34m]\u001b[0m\u001b[0;34m,\u001b[0m \u001b[0mlevels_deep_list\u001b[0m\u001b[0;34m[\u001b[0m\u001b[0maux\u001b[0m\u001b[0;34m]\u001b[0m\u001b[0;34m,\u001b[0m \u001b[0mcurrent_positions\u001b[0m\u001b[0;34m,\u001b[0m \u001b[0mvolume_storage\u001b[0m\u001b[0;34m,\u001b[0m \u001b[0me\u001b[0m\u001b[0;34m,\u001b[0m \u001b[0mlimits\u001b[0m\u001b[0;34m,\u001b[0m \u001b[0mbase_volume\u001b[0m\u001b[0;34m)\u001b[0m\u001b[0;34m\u001b[0m\u001b[0;34m\u001b[0m\u001b[0m\n\u001b[0m\u001b[1;32m     14\u001b[0m \u001b[0;34m\u001b[0m\u001b[0m\n\u001b[1;32m     15\u001b[0m \u001b[0;34m\u001b[0m\u001b[0m\n",
      "\u001b[0;31mTypeError\u001b[0m: zt_trader() missing 2 required positional arguments: 'stock_prices_max' and 'stock_prices_min'"
     ]
    },
    {
     "name": "stderr",
     "output_type": "stream",
     "text": [
      "2021-03-18 10:27:56,522 [client    ] [Thread-4    ] Forcing a disconnect due to an error: Closing connection because someone else logged in with the same credentials. Only one session may be active at the same time.\n"
     ]
    }
   ],
   "source": [
    "# Test loop z-trader\n",
    "time_var=0\n",
    "while time_var==0:\n",
    "    \n",
    "    #trade_pair (1)\n",
    "    #trade_pair (b)\n",
    "    \n",
    "    aux=0\n",
    "    stock_A=pair_list[aux][0]\n",
    "    stock_B=pair_list[aux][1]    \n",
    "\n",
    "    res = 0\n",
    "    res, levels_deep_list[aux], current_positions, volume_storage = zt_trader(stock_A, stock_B, c_list[aux], gamma_list[aux], levels_deep_list[aux], current_positions, volume_storage, e, limits, base_volume)\n",
    "\n",
    "\n",
    "    # Check goal volumes vs actual positions\n",
    "    volume_difs_1= check_volumes(stock_A, stock_B, max_levels, volume_storage, current_positions)\n",
    "    while volume_difs_1 !=0:\n",
    "        print (\"VOLUME DIFF HERE\")\n",
    "        print(volume_difs_1)\n",
    "        fix_res=fix_positions(stock_A, stock_B, volume_difs_1, e)\n",
    "        current_positions = get_nr_positions_custom(e) \n",
    "        print (\"FIXED volume diff. Res: \", fix_res)\n",
    "        volume_difs_1= check_volumes(stock_A, stock_B, max_levels, volume_storage, current_positions)\n",
    "        time.sleep(0.5)\n",
    "\n",
    "        \n",
    "    print(\"--------------------------------\")\n",
    "    time.sleep(0.5)"
   ]
  },
  {
   "cell_type": "code",
   "execution_count": 11,
   "metadata": {
    "tags": []
   },
   "outputs": [],
   "source": [
    "# Test loop z-trader\n",
    "#MARIA'S TESTS\n",
    "def automated_trading(current_positions,levels_deep_list,  volume_storage, pair_list, max_levels, limits, base_volume):\n",
    "    time_var=0\n",
    "    while time_var==0:\n",
    "        aux=0\n",
    "        for pair in pair_list:\n",
    "            stock_A=pair_list[aux][0]\n",
    "            stock_B=pair_list[aux][1]    \n",
    "\n",
    "            res = 0\n",
    "            res, levels_deep_list[aux], current_positions, volume_storage = zt_trader(stock_A, stock_B, c_list[aux], gamma_list[aux], levels_deep_list[aux], current_positions, volume_storage, e, limits, base_volume)\n",
    "\n",
    "\n",
    "            # Check goal volumes vs actual positions\n",
    "            volume_difs_1= check_volumes(stock_A, stock_B, max_levels, volume_storage, current_positions)\n",
    "            while volume_difs_1 !=0:\n",
    "                print (\"VOLUME DIFF HERE\")\n",
    "                print(volume_difs_1)\n",
    "                fix_res=fix_positions(stock_A, stock_B, volume_difs_1, e)\n",
    "                current_positions = get_nr_positions_custom(e) \n",
    "                print (\"FIXED volume diff. Res: \", fix_res)\n",
    "                volume_difs_1= check_volumes(stock_A, stock_B, max_levels, volume_storage, current_positions)\n",
    "                time.sleep(0.1)\n",
    "\n",
    "            aux +=1\n",
    "            print(\"--------------------------------\")\n",
    "            time.sleep(0.1)\n",
    "    "
   ]
  },
  {
   "cell_type": "code",
   "execution_count": 10,
   "metadata": {
    "tags": []
   },
   "outputs": [
    {
     "ename": "TypeError",
     "evalue": "automated_trading() missing 6 required positional arguments: 'aux', 'e', 'c_list', 'gamma_list', 'stock_prices_max', and 'stock_prices_min'",
     "output_type": "error",
     "traceback": [
      "\u001b[0;31m---------------------------------------------------------------------------\u001b[0m",
      "\u001b[0;31mTypeError\u001b[0m                                 Traceback (most recent call last)",
      "\u001b[0;32m<ipython-input-10-afadc225f438>\u001b[0m in \u001b[0;36m<module>\u001b[0;34m\u001b[0m\n\u001b[1;32m      1\u001b[0m \u001b[0;31m# Runs the automated trader function for all stock pairs\u001b[0m\u001b[0;34m\u001b[0m\u001b[0;34m\u001b[0m\u001b[0;34m\u001b[0m\u001b[0m\n\u001b[0;32m----> 2\u001b[0;31m \u001b[0mautomated_trading\u001b[0m \u001b[0;34m(\u001b[0m\u001b[0mcurrent_positions\u001b[0m\u001b[0;34m,\u001b[0m\u001b[0mlevels_deep_list\u001b[0m\u001b[0;34m,\u001b[0m  \u001b[0mvolume_storage\u001b[0m\u001b[0;34m,\u001b[0m \u001b[0mpair_list\u001b[0m\u001b[0;34m,\u001b[0m \u001b[0mmax_levels\u001b[0m\u001b[0;34m,\u001b[0m \u001b[0mlimits\u001b[0m\u001b[0;34m,\u001b[0m \u001b[0mbase_volume\u001b[0m\u001b[0;34m)\u001b[0m\u001b[0;34m\u001b[0m\u001b[0;34m\u001b[0m\u001b[0m\n\u001b[0m",
      "\u001b[0;31mTypeError\u001b[0m: automated_trading() missing 6 required positional arguments: 'aux', 'e', 'c_list', 'gamma_list', 'stock_prices_max', and 'stock_prices_min'"
     ]
    }
   ],
   "source": [
    "# Runs the automated trader function for all stock pairs\n",
    "automated_trading (current_positions,levels_deep_list,  volume_storage, pair_list, max_levels, limits, base_volume)"
   ]
  },
  {
   "cell_type": "code",
   "execution_count": 12,
   "metadata": {},
   "outputs": [
    {
     "name": "stdout",
     "output_type": "stream",
     "text": [
      "Order UNILEVER V: 101 Side: Bid\n",
      "Order TOTAL V: 166 Side: Ask\n",
      "Order UNILEVER V: 101 Side: Bid\n",
      "Order TOTAL V: 166 Side: Ask\n",
      "(-114, 0)\n",
      "(-114, 0)\n",
      "(-114, 0)\n",
      "(-114, 0)\n",
      "(-114, 0)\n",
      "(-114, 0)\n",
      "(-114, 0)\n",
      "(-114, 0)\n",
      "(-114, 0)\n",
      "(-114, 0)\n",
      "(-114, 0)\n",
      "(-114, 0)\n",
      "(-94, 0)\n",
      "(-94, 0)\n",
      "(-94, 0)\n",
      "(-94, 0)\n",
      "(-94, 0)\n",
      "Order TOTAL V: 166 Side: Bid\n",
      "Order UNILEVER V: 101 Side: Ask\n",
      "(144, -14)\n",
      "(144, -14)\n",
      "(144, 0)\n",
      "(144, 0)\n",
      "(144, 0)\n"
     ]
    },
    {
     "ename": "KeyboardInterrupt",
     "evalue": "",
     "output_type": "error",
     "traceback": [
      "\u001b[0;31m---------------------------------------------------------------------------\u001b[0m",
      "\u001b[0;31mKeyboardInterrupt\u001b[0m                         Traceback (most recent call last)",
      "\u001b[0;32m<ipython-input-12-474f17f22722>\u001b[0m in \u001b[0;36m<module>\u001b[0;34m\u001b[0m\n\u001b[1;32m      4\u001b[0m \u001b[0;32mwhile\u001b[0m \u001b[0mtempori\u001b[0m \u001b[0;34m==\u001b[0m\u001b[0;36m0\u001b[0m\u001b[0;34m:\u001b[0m\u001b[0;34m\u001b[0m\u001b[0;34m\u001b[0m\u001b[0m\n\u001b[1;32m      5\u001b[0m     \u001b[0;32mfor\u001b[0m \u001b[0maux\u001b[0m \u001b[0;32min\u001b[0m \u001b[0mlist_aux\u001b[0m\u001b[0;34m:\u001b[0m\u001b[0;34m\u001b[0m\u001b[0;34m\u001b[0m\u001b[0m\n\u001b[0;32m----> 6\u001b[0;31m         \u001b[0mautomated_trading\u001b[0m\u001b[0;34m(\u001b[0m\u001b[0mcurrent_positions\u001b[0m\u001b[0;34m,\u001b[0m\u001b[0mlevels_deep_list\u001b[0m\u001b[0;34m,\u001b[0m \u001b[0mvolume_storage\u001b[0m\u001b[0;34m,\u001b[0m \u001b[0mpair_list\u001b[0m\u001b[0;34m,\u001b[0m \u001b[0mmax_levels\u001b[0m\u001b[0;34m,\u001b[0m \u001b[0mlimits\u001b[0m\u001b[0;34m,\u001b[0m \u001b[0mbase_volume\u001b[0m\u001b[0;34m,\u001b[0m \u001b[0maux\u001b[0m\u001b[0;34m,\u001b[0m \u001b[0me\u001b[0m\u001b[0;34m,\u001b[0m \u001b[0mc_list\u001b[0m\u001b[0;34m,\u001b[0m \u001b[0mgamma_list\u001b[0m\u001b[0;34m,\u001b[0m \u001b[0mstock_prices_max\u001b[0m\u001b[0;34m,\u001b[0m \u001b[0mstock_prices_min\u001b[0m\u001b[0;34m)\u001b[0m\u001b[0;34m\u001b[0m\u001b[0;34m\u001b[0m\u001b[0m\n\u001b[0m",
      "\u001b[0;32m~/environment/utils_3.py\u001b[0m in \u001b[0;36mautomated_trading\u001b[0;34m(current_positions, levels_deep_list, volume_storage, pair_list, max_levels, limits, base_volume, aux, e, c_list, gamma_list, stock_prices_max, stock_prices_min)\u001b[0m\n\u001b[1;32m    916\u001b[0m \u001b[0;34m\u001b[0m\u001b[0m\n\u001b[1;32m    917\u001b[0m         \u001b[0mres\u001b[0m \u001b[0;34m=\u001b[0m \u001b[0;36m0\u001b[0m\u001b[0;34m\u001b[0m\u001b[0;34m\u001b[0m\u001b[0m\n\u001b[0;32m--> 918\u001b[0;31m         \u001b[0mres\u001b[0m\u001b[0;34m,\u001b[0m \u001b[0mlevels_deep_list\u001b[0m\u001b[0;34m[\u001b[0m\u001b[0maux\u001b[0m\u001b[0;34m]\u001b[0m\u001b[0;34m,\u001b[0m \u001b[0mcurrent_positions\u001b[0m\u001b[0;34m,\u001b[0m \u001b[0mvolume_storage\u001b[0m \u001b[0;34m=\u001b[0m \u001b[0mzt_trader\u001b[0m\u001b[0;34m(\u001b[0m\u001b[0mstock_A\u001b[0m\u001b[0;34m,\u001b[0m \u001b[0mstock_B\u001b[0m\u001b[0;34m,\u001b[0m \u001b[0mc_list\u001b[0m\u001b[0;34m[\u001b[0m\u001b[0maux\u001b[0m\u001b[0;34m]\u001b[0m\u001b[0;34m,\u001b[0m \u001b[0mgamma_list\u001b[0m\u001b[0;34m[\u001b[0m\u001b[0maux\u001b[0m\u001b[0;34m]\u001b[0m\u001b[0;34m,\u001b[0m \u001b[0mlevels_deep_list\u001b[0m\u001b[0;34m[\u001b[0m\u001b[0maux\u001b[0m\u001b[0;34m]\u001b[0m\u001b[0;34m,\u001b[0m \u001b[0mcurrent_positions\u001b[0m\u001b[0;34m,\u001b[0m \u001b[0mvolume_storage\u001b[0m\u001b[0;34m,\u001b[0m \u001b[0me\u001b[0m\u001b[0;34m,\u001b[0m \u001b[0mlimits\u001b[0m\u001b[0;34m,\u001b[0m \u001b[0mbase_volume\u001b[0m\u001b[0;34m,\u001b[0m \u001b[0mstock_prices_max\u001b[0m\u001b[0;34m,\u001b[0m \u001b[0mstock_prices_min\u001b[0m\u001b[0;34m)\u001b[0m\u001b[0;34m\u001b[0m\u001b[0;34m\u001b[0m\u001b[0m\n\u001b[0m\u001b[1;32m    919\u001b[0m \u001b[0;34m\u001b[0m\u001b[0m\n\u001b[1;32m    920\u001b[0m \u001b[0;34m\u001b[0m\u001b[0m\n",
      "\u001b[0;32m~/environment/utils_3.py\u001b[0m in \u001b[0;36mzt_trader\u001b[0;34m(stock_y, stock_x, c, gamma, levels_deep, current_positions, volume_storage, e, limits, base_volume, stock_prices_max, stock_prices_min)\u001b[0m\n\u001b[1;32m    950\u001b[0m     \u001b[0;31m#used_limit = abs(levels_deep)\u001b[0m\u001b[0;34m\u001b[0m\u001b[0;34m\u001b[0m\u001b[0;34m\u001b[0m\u001b[0m\n\u001b[1;32m    951\u001b[0m \u001b[0;34m\u001b[0m\u001b[0m\n\u001b[0;32m--> 952\u001b[0;31m     \u001b[0mzt_up\u001b[0m\u001b[0;34m,\u001b[0m \u001b[0mzt_down\u001b[0m\u001b[0;34m,\u001b[0m \u001b[0myt\u001b[0m\u001b[0;34m,\u001b[0m \u001b[0mxt\u001b[0m \u001b[0;34m=\u001b[0m \u001b[0mcheck_zt\u001b[0m\u001b[0;34m(\u001b[0m\u001b[0mstock_y\u001b[0m\u001b[0;34m,\u001b[0m \u001b[0mstock_x\u001b[0m\u001b[0;34m,\u001b[0m \u001b[0mc\u001b[0m\u001b[0;34m,\u001b[0m \u001b[0mgamma\u001b[0m\u001b[0;34m,\u001b[0m \u001b[0me\u001b[0m\u001b[0;34m)\u001b[0m \u001b[0;31m# pulls the value of zt, as well as the stock prices used to calculate it\u001b[0m\u001b[0;34m\u001b[0m\u001b[0;34m\u001b[0m\u001b[0m\n\u001b[0m\u001b[1;32m    953\u001b[0m \u001b[0;34m\u001b[0m\u001b[0m\n\u001b[1;32m    954\u001b[0m     \u001b[0mshallower_critical_limit\u001b[0m \u001b[0;34m=\u001b[0m \u001b[0mlimits\u001b[0m\u001b[0;34m[\u001b[0m\u001b[0mabs\u001b[0m\u001b[0;34m(\u001b[0m\u001b[0mlevels_deep\u001b[0m\u001b[0;34m)\u001b[0m\u001b[0;34m-\u001b[0m\u001b[0;36m1\u001b[0m\u001b[0;34m]\u001b[0m\u001b[0;34m\u001b[0m\u001b[0;34m\u001b[0m\u001b[0m\n",
      "\u001b[0;32m~/environment/utils_3.py\u001b[0m in \u001b[0;36mcheck_zt\u001b[0;34m(stock_y, stock_x, c, gamma, e)\u001b[0m\n\u001b[1;32m    530\u001b[0m \u001b[0;32mdef\u001b[0m \u001b[0mcheck_zt\u001b[0m\u001b[0;34m(\u001b[0m\u001b[0mstock_y\u001b[0m\u001b[0;34m,\u001b[0m \u001b[0mstock_x\u001b[0m\u001b[0;34m,\u001b[0m \u001b[0mc\u001b[0m\u001b[0;34m,\u001b[0m \u001b[0mgamma\u001b[0m\u001b[0;34m,\u001b[0m \u001b[0me\u001b[0m\u001b[0;34m)\u001b[0m\u001b[0;34m:\u001b[0m\u001b[0;34m\u001b[0m\u001b[0;34m\u001b[0m\u001b[0m\n\u001b[1;32m    531\u001b[0m     \u001b[0myt\u001b[0m\u001b[0;34m=\u001b[0m\u001b[0mget_current_price\u001b[0m\u001b[0;34m(\u001b[0m\u001b[0mstock_y\u001b[0m\u001b[0;34m,\u001b[0m \u001b[0me\u001b[0m\u001b[0;34m)\u001b[0m\u001b[0;34m\u001b[0m\u001b[0;34m\u001b[0m\u001b[0m\n\u001b[0;32m--> 532\u001b[0;31m     \u001b[0mxt\u001b[0m\u001b[0;34m=\u001b[0m\u001b[0mget_current_price\u001b[0m\u001b[0;34m(\u001b[0m\u001b[0mstock_x\u001b[0m\u001b[0;34m,\u001b[0m \u001b[0me\u001b[0m\u001b[0;34m)\u001b[0m\u001b[0;34m\u001b[0m\u001b[0;34m\u001b[0m\u001b[0m\n\u001b[0m\u001b[1;32m    533\u001b[0m \u001b[0;34m\u001b[0m\u001b[0m\n\u001b[1;32m    534\u001b[0m     \u001b[0;31m# retries the function if the pricebook is ever empty\u001b[0m\u001b[0;34m\u001b[0m\u001b[0;34m\u001b[0m\u001b[0;34m\u001b[0m\u001b[0m\n",
      "\u001b[0;32m~/environment/utils_3.py\u001b[0m in \u001b[0;36mget_current_price\u001b[0;34m(instrument_id, e)\u001b[0m\n\u001b[1;32m    120\u001b[0m \u001b[0;34m\u001b[0m\u001b[0m\n\u001b[1;32m    121\u001b[0m \u001b[0;32mdef\u001b[0m \u001b[0mget_current_price\u001b[0m\u001b[0;34m(\u001b[0m\u001b[0minstrument_id\u001b[0m\u001b[0;34m,\u001b[0m \u001b[0me\u001b[0m\u001b[0;34m)\u001b[0m\u001b[0;34m:\u001b[0m\u001b[0;34m\u001b[0m\u001b[0;34m\u001b[0m\u001b[0m\n\u001b[0;32m--> 122\u001b[0;31m     \u001b[0mbook\u001b[0m \u001b[0;34m=\u001b[0m \u001b[0me\u001b[0m\u001b[0;34m.\u001b[0m\u001b[0mget_last_price_book\u001b[0m\u001b[0;34m(\u001b[0m\u001b[0minstrument_id\u001b[0m\u001b[0;34m)\u001b[0m\u001b[0;34m\u001b[0m\u001b[0;34m\u001b[0m\u001b[0m\n\u001b[0m\u001b[1;32m    123\u001b[0m     \u001b[0;31m#for line in book.asks:\u001b[0m\u001b[0;34m\u001b[0m\u001b[0;34m\u001b[0m\u001b[0;34m\u001b[0m\u001b[0m\n\u001b[1;32m    124\u001b[0m      \u001b[0;31m#   print(line)\u001b[0m\u001b[0;34m\u001b[0m\u001b[0;34m\u001b[0m\u001b[0;34m\u001b[0m\u001b[0m\n",
      "\u001b[0;32m/usr/local/lib/python3.6/site-packages/optibook/synchronous_client.py\u001b[0m in \u001b[0;36mget_last_price_book\u001b[0;34m(self, instrument_id)\u001b[0m\n\u001b[1;32m    177\u001b[0m         \u001b[0;34m:\u001b[0m\u001b[0mparam\u001b[0m \u001b[0minstrument_id\u001b[0m\u001b[0;34m:\u001b[0m \u001b[0mThe\u001b[0m \u001b[0minstrument_id\u001b[0m \u001b[0mof\u001b[0m \u001b[0mthe\u001b[0m \u001b[0minstrument\u001b[0m \u001b[0mto\u001b[0m \u001b[0mobtain\u001b[0m \u001b[0mthe\u001b[0m \u001b[0mlimit\u001b[0m \u001b[0morder\u001b[0m \u001b[0mbook\u001b[0m \u001b[0;32mfor\u001b[0m\u001b[0;34m.\u001b[0m\u001b[0;34m\u001b[0m\u001b[0;34m\u001b[0m\u001b[0m\n\u001b[1;32m    178\u001b[0m         \"\"\"\n\u001b[0;32m--> 179\u001b[0;31m         \u001b[0;32massert\u001b[0m \u001b[0mself\u001b[0m\u001b[0;34m.\u001b[0m\u001b[0mis_connected\u001b[0m\u001b[0;34m(\u001b[0m\u001b[0;34m)\u001b[0m\u001b[0;34m,\u001b[0m \u001b[0;34m\"Cannot call function until connected. Call connect() first\"\u001b[0m\u001b[0;34m\u001b[0m\u001b[0;34m\u001b[0m\u001b[0m\n\u001b[0m\u001b[1;32m    180\u001b[0m         \u001b[0;32mreturn\u001b[0m \u001b[0mself\u001b[0m\u001b[0;34m.\u001b[0m\u001b[0m_i\u001b[0m\u001b[0;34m.\u001b[0m\u001b[0mget_last_price_book\u001b[0m\u001b[0;34m(\u001b[0m\u001b[0minstrument_id\u001b[0m\u001b[0;34m)\u001b[0m\u001b[0;34m\u001b[0m\u001b[0;34m\u001b[0m\u001b[0m\n\u001b[1;32m    181\u001b[0m \u001b[0;34m\u001b[0m\u001b[0m\n",
      "\u001b[0;32m/usr/local/lib/python3.6/site-packages/optibook/synchronous_client.py\u001b[0m in \u001b[0;36mis_connected\u001b[0;34m(self)\u001b[0m\n\u001b[1;32m     39\u001b[0m         \u001b[0mReturns\u001b[0m \u001b[0mwhether\u001b[0m \u001b[0mthe\u001b[0m \u001b[0mExchange\u001b[0m \u001b[0mClient\u001b[0m \u001b[0;32mis\u001b[0m \u001b[0mcurrently\u001b[0m \u001b[0mconnected\u001b[0m \u001b[0mto\u001b[0m \u001b[0mthe\u001b[0m \u001b[0mExchange\u001b[0m\u001b[0;34m.\u001b[0m\u001b[0;34m\u001b[0m\u001b[0;34m\u001b[0m\u001b[0m\n\u001b[1;32m     40\u001b[0m         \"\"\"\n\u001b[0;32m---> 41\u001b[0;31m         \u001b[0;32mreturn\u001b[0m \u001b[0mself\u001b[0m\u001b[0;34m.\u001b[0m\u001b[0m_wrapper\u001b[0m\u001b[0;34m.\u001b[0m\u001b[0mis_connected\u001b[0m\u001b[0;34m(\u001b[0m\u001b[0;34m)\u001b[0m\u001b[0;34m\u001b[0m\u001b[0;34m\u001b[0m\u001b[0m\n\u001b[0m\u001b[1;32m     42\u001b[0m \u001b[0;34m\u001b[0m\u001b[0m\n\u001b[1;32m     43\u001b[0m     \u001b[0;32mdef\u001b[0m \u001b[0mconnect\u001b[0m\u001b[0;34m(\u001b[0m\u001b[0mself\u001b[0m\u001b[0;34m,\u001b[0m \u001b[0musername\u001b[0m\u001b[0;34m=\u001b[0m\u001b[0;32mNone\u001b[0m\u001b[0;34m,\u001b[0m \u001b[0mpassword\u001b[0m\u001b[0;34m=\u001b[0m\u001b[0;32mNone\u001b[0m\u001b[0;34m,\u001b[0m \u001b[0madmin_password\u001b[0m\u001b[0;34m=\u001b[0m\u001b[0;32mNone\u001b[0m\u001b[0;34m)\u001b[0m \u001b[0;34m->\u001b[0m \u001b[0;32mNone\u001b[0m\u001b[0;34m:\u001b[0m\u001b[0;34m\u001b[0m\u001b[0;34m\u001b[0m\u001b[0m\n",
      "\u001b[0;32m/usr/local/lib/python3.6/site-packages/optibook/synchronous_wrapper.py\u001b[0m in \u001b[0;36mis_connected\u001b[0;34m(self)\u001b[0m\n\u001b[1;32m     21\u001b[0m \u001b[0;34m\u001b[0m\u001b[0m\n\u001b[1;32m     22\u001b[0m     \u001b[0;32mdef\u001b[0m \u001b[0mis_connected\u001b[0m\u001b[0;34m(\u001b[0m\u001b[0mself\u001b[0m\u001b[0;34m)\u001b[0m \u001b[0;34m->\u001b[0m \u001b[0mbool\u001b[0m\u001b[0;34m:\u001b[0m\u001b[0;34m\u001b[0m\u001b[0;34m\u001b[0m\u001b[0m\n\u001b[0;32m---> 23\u001b[0;31m         \u001b[0;32mreturn\u001b[0m \u001b[0mall\u001b[0m\u001b[0;34m(\u001b[0m\u001b[0;34m[\u001b[0m\u001b[0mcl\u001b[0m\u001b[0;34m.\u001b[0m\u001b[0mis_connected\u001b[0m\u001b[0;34m(\u001b[0m\u001b[0;34m)\u001b[0m \u001b[0;32mfor\u001b[0m \u001b[0mcl\u001b[0m \u001b[0;32min\u001b[0m \u001b[0mself\u001b[0m\u001b[0;34m.\u001b[0m\u001b[0m_clients\u001b[0m\u001b[0;34m]\u001b[0m\u001b[0;34m)\u001b[0m \u001b[0;32mand\u001b[0m \u001b[0mself\u001b[0m\u001b[0;34m.\u001b[0m\u001b[0m_loop\u001b[0m\u001b[0;34m.\u001b[0m\u001b[0mis_running\u001b[0m\u001b[0;34m(\u001b[0m\u001b[0;34m)\u001b[0m\u001b[0;34m\u001b[0m\u001b[0;34m\u001b[0m\u001b[0m\n\u001b[0m\u001b[1;32m     24\u001b[0m \u001b[0;34m\u001b[0m\u001b[0m\n\u001b[1;32m     25\u001b[0m     \u001b[0;32mdef\u001b[0m \u001b[0mconnect\u001b[0m\u001b[0;34m(\u001b[0m\u001b[0mself\u001b[0m\u001b[0;34m)\u001b[0m \u001b[0;34m->\u001b[0m \u001b[0;32mNone\u001b[0m\u001b[0;34m:\u001b[0m\u001b[0;34m\u001b[0m\u001b[0;34m\u001b[0m\u001b[0m\n",
      "\u001b[0;32m/usr/local/lib/python3.6/site-packages/optibook/synchronous_wrapper.py\u001b[0m in \u001b[0;36m<listcomp>\u001b[0;34m(.0)\u001b[0m\n\u001b[1;32m     21\u001b[0m \u001b[0;34m\u001b[0m\u001b[0m\n\u001b[1;32m     22\u001b[0m     \u001b[0;32mdef\u001b[0m \u001b[0mis_connected\u001b[0m\u001b[0;34m(\u001b[0m\u001b[0mself\u001b[0m\u001b[0;34m)\u001b[0m \u001b[0;34m->\u001b[0m \u001b[0mbool\u001b[0m\u001b[0;34m:\u001b[0m\u001b[0;34m\u001b[0m\u001b[0;34m\u001b[0m\u001b[0m\n\u001b[0;32m---> 23\u001b[0;31m         \u001b[0;32mreturn\u001b[0m \u001b[0mall\u001b[0m\u001b[0;34m(\u001b[0m\u001b[0;34m[\u001b[0m\u001b[0mcl\u001b[0m\u001b[0;34m.\u001b[0m\u001b[0mis_connected\u001b[0m\u001b[0;34m(\u001b[0m\u001b[0;34m)\u001b[0m \u001b[0;32mfor\u001b[0m \u001b[0mcl\u001b[0m \u001b[0;32min\u001b[0m \u001b[0mself\u001b[0m\u001b[0;34m.\u001b[0m\u001b[0m_clients\u001b[0m\u001b[0;34m]\u001b[0m\u001b[0;34m)\u001b[0m \u001b[0;32mand\u001b[0m \u001b[0mself\u001b[0m\u001b[0;34m.\u001b[0m\u001b[0m_loop\u001b[0m\u001b[0;34m.\u001b[0m\u001b[0mis_running\u001b[0m\u001b[0;34m(\u001b[0m\u001b[0;34m)\u001b[0m\u001b[0;34m\u001b[0m\u001b[0;34m\u001b[0m\u001b[0m\n\u001b[0m\u001b[1;32m     24\u001b[0m \u001b[0;34m\u001b[0m\u001b[0m\n\u001b[1;32m     25\u001b[0m     \u001b[0;32mdef\u001b[0m \u001b[0mconnect\u001b[0m\u001b[0;34m(\u001b[0m\u001b[0mself\u001b[0m\u001b[0;34m)\u001b[0m \u001b[0;34m->\u001b[0m \u001b[0;32mNone\u001b[0m\u001b[0;34m:\u001b[0m\u001b[0;34m\u001b[0m\u001b[0;34m\u001b[0m\u001b[0m\n",
      "\u001b[0;32m/usr/local/lib/python3.6/site-packages/optibook/base_client.py\u001b[0m in \u001b[0;36mis_connected\u001b[0;34m(self)\u001b[0m\n\u001b[1;32m    198\u001b[0m \u001b[0;34m\u001b[0m\u001b[0m\n\u001b[1;32m    199\u001b[0m     \u001b[0;32mdef\u001b[0m \u001b[0mis_connected\u001b[0m\u001b[0;34m(\u001b[0m\u001b[0mself\u001b[0m\u001b[0;34m)\u001b[0m\u001b[0;34m:\u001b[0m\u001b[0;34m\u001b[0m\u001b[0;34m\u001b[0m\u001b[0m\n\u001b[0;32m--> 200\u001b[0;31m         \u001b[0;32mreturn\u001b[0m \u001b[0mself\u001b[0m\u001b[0;34m.\u001b[0m\u001b[0m_writer\u001b[0m \u001b[0;32mand\u001b[0m \u001b[0;32mnot\u001b[0m \u001b[0mself\u001b[0m\u001b[0;34m.\u001b[0m\u001b[0m_writer\u001b[0m\u001b[0;34m.\u001b[0m\u001b[0mtransport\u001b[0m\u001b[0;34m.\u001b[0m\u001b[0mis_closing\u001b[0m\u001b[0;34m(\u001b[0m\u001b[0;34m)\u001b[0m\u001b[0;34m\u001b[0m\u001b[0;34m\u001b[0m\u001b[0m\n\u001b[0m\u001b[1;32m    201\u001b[0m \u001b[0;34m\u001b[0m\u001b[0m\n\u001b[1;32m    202\u001b[0m     \u001b[0;34masync\u001b[0m \u001b[0;32mdef\u001b[0m \u001b[0mdisconnect\u001b[0m\u001b[0;34m(\u001b[0m\u001b[0mself\u001b[0m\u001b[0;34m)\u001b[0m\u001b[0;34m:\u001b[0m\u001b[0;34m\u001b[0m\u001b[0;34m\u001b[0m\u001b[0m\n",
      "\u001b[0;31mKeyboardInterrupt\u001b[0m: "
     ]
    }
   ],
   "source": [
    "list_aux=[0, 1, 2]\n",
    "\n",
    "tempori=0\n",
    "while tempori ==0:\n",
    "    for aux in list_aux:\n",
    "        automated_trading(current_positions,levels_deep_list, volume_storage, pair_list, max_levels, limits, base_volume, aux, e, c_list, gamma_list, stock_prices_max, stock_prices_min)"
   ]
  },
  {
   "cell_type": "code",
   "execution_count": 2,
   "metadata": {},
   "outputs": [
    {
     "ename": "NameError",
     "evalue": "name 'pair_list' is not defined",
     "output_type": "error",
     "traceback": [
      "\u001b[0;31m---------------------------------------------------------------------------\u001b[0m",
      "\u001b[0;31mNameError\u001b[0m                                 Traceback (most recent call last)",
      "\u001b[0;32m<ipython-input-2-60596002b4f9>\u001b[0m in \u001b[0;36m<module>\u001b[0;34m\u001b[0m\n\u001b[0;32m----> 1\u001b[0;31m \u001b[0mprint\u001b[0m\u001b[0;34m(\u001b[0m\u001b[0mpair_list\u001b[0m\u001b[0;34m)\u001b[0m\u001b[0;34m\u001b[0m\u001b[0;34m\u001b[0m\u001b[0m\n\u001b[0m\u001b[1;32m      2\u001b[0m \u001b[0mprint\u001b[0m \u001b[0;34m(\u001b[0m\u001b[0mlevels_deep_list\u001b[0m\u001b[0;34m)\u001b[0m\u001b[0;34m\u001b[0m\u001b[0;34m\u001b[0m\u001b[0m\n",
      "\u001b[0;31mNameError\u001b[0m: name 'pair_list' is not defined"
     ]
    }
   ],
   "source": [
    "print(pair_list)\n",
    "print (levels_deep_list)"
   ]
  },
  {
   "cell_type": "code",
   "execution_count": null,
   "metadata": {
    "tags": []
   },
   "outputs": [],
   "source": [
    "print (volume_storage)\n",
    "print (current_positions)\n",
    "res=check_volumes('TOTAL', 'UNILEVER', max_levels, volume_storage, current_positions)\n",
    "print ('Result:', res)"
   ]
  },
  {
   "cell_type": "markdown",
   "metadata": {},
   "source": [
    "# Test loop the arbitrage trader function:"
   ]
  },
  {
   "cell_type": "code",
   "execution_count": null,
   "metadata": {
    "tags": []
   },
   "outputs": [],
   "source": [
    "# Test loop the z-trader function\n",
    "# Before you begin, make sure all positions are at 0 and that you've set levels_deep = 0\n",
    "time_var=0\n",
    "while time_var==0:\n",
    "    res, levels_deep = zt_trader(stock_y, stock_x, c, gamma, levels_deep, e, base_volume=20)\n",
    "    time.sleep(0.5)"
   ]
  },
  {
   "cell_type": "markdown",
   "metadata": {},
   "source": [
    "# Test for finding the current value of zt for a given stock pair"
   ]
  },
  {
   "cell_type": "code",
   "execution_count": null,
   "metadata": {},
   "outputs": [],
   "source": [
    "# Checks what zt is for a given stock pair\n",
    "print(check_zt(\"TOTAL\", \"UNILEVER\", -0.5, 1, e))"
   ]
  }
 ],
 "metadata": {
  "kernelspec": {
   "display_name": "Python 3",
   "language": "python",
   "name": "python3"
  },
  "language_info": {
   "codemirror_mode": {
    "name": "ipython",
    "version": 3
   },
   "file_extension": ".py",
   "mimetype": "text/x-python",
   "name": "python",
   "nbconvert_exporter": "python",
   "pygments_lexer": "ipython3",
   "version": "3.8.5"
  }
 },
 "nbformat": 4,
 "nbformat_minor": 4
}
